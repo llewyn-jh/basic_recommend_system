{
 "cells": [
  {
   "cell_type": "code",
   "execution_count": null,
   "id": "split-chain",
   "metadata": {},
   "outputs": [],
   "source": [
    "%config Completer.use_jedi = False"
   ]
  },
  {
   "cell_type": "code",
   "execution_count": null,
   "id": "copyrighted-copyright",
   "metadata": {},
   "outputs": [],
   "source": [
    "import pandas as pd\n",
    "import numpy as np\n",
    "from sklearn.metrics import mean_squared_error"
   ]
  },
  {
   "cell_type": "code",
   "execution_count": null,
   "id": "blank-baking",
   "metadata": {},
   "outputs": [],
   "source": [
    "def get_rmse(R, P, Q, non_zeros):\n",
    "    \"\"\"Calculate and return a positive root of MSE with R and predicted R\n",
    "    R: original data,\n",
    "    P, Q: factorization matrix,\n",
    "    non_zeros: non zero element and (x, y) coordinate of R\"\"\"\n",
    "\n",
    "    # Generate a predicted R with P, Q\n",
    "    full_pred_matrix = np.dot(P, Q.T)\n",
    "    \n",
    "    # Calculate RMSE with R and predicted R\n",
    "    x_non_zero_ind = [non_zero[0] for non_zero in non_zeros]\n",
    "    y_non_zero_ind = [non_zero[1] for non_zero in non_zeros]\n",
    "    R_non_zeros = R[x_non_zero_ind, y_non_zero_ind]\n",
    "    full_pred_matrix_non_zeros = full_pred_matrix[x_non_zero_ind, y_non_zero_ind]\n",
    "    mse = mean_squared_error(R_non_zeros, full_pred_matrix_non_zeros)\n",
    "    rmse = np.sqrt(mse)\n",
    "    \n",
    "    return rmse"
   ]
  },
  {
   "cell_type": "code",
   "execution_count": null,
   "id": "eligible-inflation",
   "metadata": {},
   "outputs": [],
   "source": [
    "def matrix_factorization(R, K, steps=200, learning_rate=0.01, r_lambda=0.01):\n",
    "    \"\"\"R: user-item rating,\n",
    "    K: demension of potential factor,\n",
    "    steps: the number of SGD iteration,\n",
    "    learning_rate: learning rate,\n",
    "    r_lambda: L2 regularization\"\"\"\n",
    "    \n",
    "    num_users, num_items = R.shape\n",
    "    \n",
    "    # Set demensions and random values of P and Q\n",
    "    P = np.random.normal(scale=1./K, size=(num_users, K))\n",
    "    Q = np.random.normal(scale=1./K, size=(num_items, K))\n",
    "    \n",
    "    prev_rmse = 10000\n",
    "    break_count = 0\n",
    "    \n",
    "    # Save non zero elements in R\n",
    "    non_zeros = [(i, j, R[i, j]) for i in range(num_users) for j in range(num_items) if R[i, j] > 0]\n",
    "    \n",
    "    # Update P and Q using SGD method\n",
    "    for step in range(steps):\n",
    "        for i, j, r in non_zeros:\n",
    "            # Calculate erros\n",
    "            e_ij = r - np.dot(P[i, :], Q[j, :].T)\n",
    "            # Apply the L2 regularization and update\n",
    "            P[i, :] = P[i, :] + learning_rate * (e_ij * Q[j, :] - r_lambda * P[i, :])\n",
    "            Q[j, :] = Q[j, :] + learning_rate * (e_ij * P[i, :] - r_lambda * Q[j, :])\n",
    "        \n",
    "        rmse = get_rmse(R, P, Q, non_zeros)\n",
    "        if step % 10 == 0:\n",
    "            print(\"### iteration step: \", step, \" rmse: \", rmse)\n",
    "            \n",
    "    return P, Q"
   ]
  },
  {
   "cell_type": "code",
   "execution_count": null,
   "id": "statewide-stewart",
   "metadata": {},
   "outputs": [],
   "source": [
    "movies = pd.read_csv(\"./movies.csv\")\n",
    "ratings = pd.read_csv(\"./ratings.csv\")\n",
    "ratings = ratings[[\"userId\", \"movieId\", \"rating\"]]\n",
    "ratings_matrix = ratings.pivot_table(\"rating\", index=\"userId\", columns=\"movieId\")"
   ]
  },
  {
   "cell_type": "code",
   "execution_count": null,
   "id": "entire-fault",
   "metadata": {},
   "outputs": [],
   "source": [
    "ratings_matrix"
   ]
  },
  {
   "cell_type": "code",
   "execution_count": null,
   "id": "endangered-connectivity",
   "metadata": {},
   "outputs": [],
   "source": [
    "# Merge matrices ratings and movies\n",
    "rating_movies = pd.merge(ratings, movies, on=\"movieId\")\n",
    "\n",
    "# Pivot\n",
    "ratings_matrix = rating_movies.pivot_table(\"rating\", index=\"userId\", columns=\"title\")"
   ]
  },
  {
   "cell_type": "code",
   "execution_count": null,
   "id": "framed-catering",
   "metadata": {},
   "outputs": [],
   "source": [
    "P, Q = matrix_factorization(ratings_matrix.values, K=50, steps=200, learning_rate=0.01, r_lambda=0.01)\n",
    "pred_matrix = np.dot(P, Q.T)"
   ]
  },
  {
   "cell_type": "code",
   "execution_count": null,
   "id": "attempted-involvement",
   "metadata": {},
   "outputs": [],
   "source": [
    "ratings_pred_matrix = pd.DataFrame(pred_matrix, index=ratings_matrix.index, columns=ratings_matrix.columns)\n",
    "ratings_pred_matrix"
   ]
  },
  {
   "cell_type": "code",
   "execution_count": null,
   "id": "alone-inspection",
   "metadata": {},
   "outputs": [],
   "source": [
    "def get_unseen_movies(ratings_matrix, user_id):\n",
    "    \"\"\"Return a list of not seen movies indexes\n",
    "    ratings_matrix: numpy array, rows are users and columns are moives, values are ratings,\n",
    "    user_id: integer, an user id number\"\"\"\n",
    "    \n",
    "    # Return all movies of an user\n",
    "    user_rating = ratings_matrix.loc[user_id, :]\n",
    "    \n",
    "    # Return a list of not seen movies indexes\n",
    "    already_seen = user_rating[user_rating > 0].index.tolist()\n",
    "    \n",
    "    # All of movies title\n",
    "    movies_list = ratings_matrix.columns.tolist()\n",
    "    \n",
    "    # Unseen movies list\n",
    "    unseen_list = [movie for movie in movies_list if movie not in already_seen]\n",
    "    \n",
    "    return unseen_list"
   ]
  },
  {
   "cell_type": "code",
   "execution_count": null,
   "id": "worst-generator",
   "metadata": {},
   "outputs": [],
   "source": [
    "# Extract unseen movies\n",
    "unseen_list = get_unseen_movies(ratings_matrix, 9)"
   ]
  },
  {
   "cell_type": "code",
   "execution_count": null,
   "id": "accurate-identification",
   "metadata": {},
   "outputs": [],
   "source": [
    "def recomm_movie_by_userid(pred_df, user_id, unseen_list, top_n=10):\n",
    "    \"\"\"Recommend top n not seen movies by predicted higher rating\"\"\"\n",
    "    recomm_movies = pred_df.loc[user_id, unseen_list].sort_values(ascending=False)[:top_n]\n",
    "    return recomm_movies"
   ]
  },
  {
   "cell_type": "code",
   "execution_count": null,
   "id": "biological-sheriff",
   "metadata": {},
   "outputs": [],
   "source": [
    "# Recommend movies with potential collaborative filtering\n",
    "recomm_movies = recomm_movie_by_user_id(ratings_pred_matrix, 9, unseen_list, top_n=10)"
   ]
  },
  {
   "cell_type": "code",
   "execution_count": null,
   "id": "corporate-intermediate",
   "metadata": {},
   "outputs": [],
   "source": [
    "# Generate a rating data to a DataFrame\n",
    "recomm_movies = pd.DataFrame(data=recomm_movies.values, index=recomm_movies.index, columns=[\"pred_scorre\"])\n",
    "recomm_movies"
   ]
  }
 ],
 "metadata": {
  "kernelspec": {
   "display_name": "Python 3",
   "language": "python",
   "name": "python3"
  },
  "language_info": {
   "codemirror_mode": {
    "name": "ipython",
    "version": 3
   },
   "file_extension": ".py",
   "mimetype": "text/x-python",
   "name": "python",
   "nbconvert_exporter": "python",
   "pygments_lexer": "ipython3",
   "version": "3.8.2"
  }
 },
 "nbformat": 4,
 "nbformat_minor": 5
}
