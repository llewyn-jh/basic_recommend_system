{
 "cells": [
  {
   "cell_type": "code",
   "execution_count": null,
   "id": "specialized-special",
   "metadata": {},
   "outputs": [],
   "source": [
    "%config Completer.use_jedi = False"
   ]
  },
  {
   "cell_type": "markdown",
   "id": "worst-arkansas",
   "metadata": {},
   "source": [
    "# Read data"
   ]
  },
  {
   "cell_type": "code",
   "execution_count": null,
   "id": "tropical-locator",
   "metadata": {},
   "outputs": [],
   "source": [
    "import pandas as pd\n",
    "import numpy as np"
   ]
  },
  {
   "cell_type": "code",
   "execution_count": null,
   "id": "south-nickel",
   "metadata": {},
   "outputs": [],
   "source": [
    "movies = pd.read_csv('./ml-latest-small/movies.csv')\n",
    "ratings = pd.read_csv('./ml-latest-small/ratings.csv')\n",
    "\n",
    "print(\"movies samples: {}, features: {}\".format(movies.shape[0], movies.shape[1]))\n",
    "print(\"ratings shape: {}, features: {}\".format(ratings.shape[0], ratings.shape[1]))"
   ]
  },
  {
   "cell_type": "code",
   "execution_count": null,
   "id": "touched-system",
   "metadata": {},
   "outputs": [],
   "source": [
    "movies.head(n=3)"
   ]
  },
  {
   "cell_type": "code",
   "execution_count": null,
   "id": "classified-institution",
   "metadata": {},
   "outputs": [],
   "source": [
    "ratings.head(n=3)"
   ]
  },
  {
   "cell_type": "markdown",
   "id": "wired-feeding",
   "metadata": {},
   "source": [
    "# Pivot ratings -> userId - movieId"
   ]
  },
  {
   "cell_type": "code",
   "execution_count": null,
   "id": "exempt-retail",
   "metadata": {},
   "outputs": [],
   "source": [
    "ratings = ratings[['userId', 'movieId', 'rating']]\n",
    "ratings_matrix = ratings.pivot_table(values='rating', index='userId', columns='movieId')\n",
    "ratings_matrix.head()"
   ]
  },
  {
   "cell_type": "code",
   "execution_count": null,
   "id": "underlying-drove",
   "metadata": {},
   "outputs": [],
   "source": [
    "# Turn numbers into titles\n",
    "ratings_movies = ratings.merge(movies, left_on='movieId', right_on='movieId')\n",
    "ratings_matrix = ratings_movies.pivot_table(values='rating', index='userId', columns='title')\n",
    "\n",
    "# Fill Nan to 0\n",
    "ratings_matrix.fillna(0, inplace=True)\n",
    "ratings_matrix.head()"
   ]
  },
  {
   "cell_type": "markdown",
   "id": "intimate-quality",
   "metadata": {},
   "source": [
    "# Cosine similarity matrix"
   ]
  },
  {
   "cell_type": "code",
   "execution_count": null,
   "id": "rural-intensity",
   "metadata": {},
   "outputs": [],
   "source": [
    "from sklearn.metrics.pairwise import cosine_similarity"
   ]
  },
  {
   "cell_type": "code",
   "execution_count": null,
   "id": "traditional-vertical",
   "metadata": {},
   "outputs": [],
   "source": [
    "# Transpose ratings_matrix\n",
    "ratings_matrix_T = ratings_matrix.T\n",
    "\n",
    "# Calculate cosine similarity array\n",
    "item_sim = cosine_similarity(ratings_matrix_T, ratings_matrix_T)\n",
    "\n",
    "# Change numpy array to pandas dataframe\n",
    "item_sim_df = pd.DataFrame(data=item_sim, index=ratings_matrix.columns, columns=ratings_matrix.columns)"
   ]
  },
  {
   "cell_type": "code",
   "execution_count": null,
   "id": "lasting-animal",
   "metadata": {},
   "outputs": [],
   "source": [
    "item_sim_df"
   ]
  },
  {
   "cell_type": "markdown",
   "id": "burning-factory",
   "metadata": {},
   "source": [
    "## Personalized recommend system: based items k-nearest collaborative filtering\n",
    "\n",
    "- hat_R_ui: 영화 'i'에 대한 사용자 'u'의 평점 예측값\n",
    "- S_iN: 영화 'i'와 가장 유사도가 높은 top-N개 영화의 유사도 벡터\n",
    "- R_uN: 사용자 u의 영화 i와 가장 유사도가 높은 top-N개 영황에 대한 실제 평점 벡터"
   ]
  }
 ],
 "metadata": {
  "kernelspec": {
   "display_name": "Python 3",
   "language": "python",
   "name": "python3"
  },
  "language_info": {
   "codemirror_mode": {
    "name": "ipython",
    "version": 3
   },
   "file_extension": ".py",
   "mimetype": "text/x-python",
   "name": "python",
   "nbconvert_exporter": "python",
   "pygments_lexer": "ipython3",
   "version": "3.8.2"
  }
 },
 "nbformat": 4,
 "nbformat_minor": 5
}
