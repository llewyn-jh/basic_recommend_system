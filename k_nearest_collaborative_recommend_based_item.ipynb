{
 "cells": [
  {
   "cell_type": "code",
   "execution_count": null,
   "id": "specialized-special",
   "metadata": {},
   "outputs": [],
   "source": [
    "%config Completer.use_jedi = False"
   ]
  },
  {
   "cell_type": "markdown",
   "id": "worst-arkansas",
   "metadata": {},
   "source": [
    "# Read data"
   ]
  },
  {
   "cell_type": "code",
   "execution_count": null,
   "id": "tropical-locator",
   "metadata": {},
   "outputs": [],
   "source": [
    "import pandas as pd\n",
    "import numpy as np"
   ]
  },
  {
   "cell_type": "code",
   "execution_count": null,
   "id": "south-nickel",
   "metadata": {},
   "outputs": [],
   "source": [
    "movies = pd.read_csv('./movies.csv')\n",
    "ratings = pd.read_csv('./ratings.csv')\n",
    "\n",
    "print(\"movies samples: {}, features: {}\".format(movies.shape[0], movies.shape[1]))\n",
    "print(\"ratings shape: {}, features: {}\".format(ratings.shape[0], ratings.shape[1]))"
   ]
  },
  {
   "cell_type": "code",
   "execution_count": null,
   "id": "touched-system",
   "metadata": {},
   "outputs": [],
   "source": [
    "movies.head(n=3)"
   ]
  },
  {
   "cell_type": "code",
   "execution_count": null,
   "id": "classified-institution",
   "metadata": {},
   "outputs": [],
   "source": [
    "ratings.head(n=3)"
   ]
  },
  {
   "cell_type": "markdown",
   "id": "wired-feeding",
   "metadata": {},
   "source": [
    "# Pivot ratings -> userId - movieId"
   ]
  },
  {
   "cell_type": "code",
   "execution_count": null,
   "id": "exempt-retail",
   "metadata": {},
   "outputs": [],
   "source": [
    "ratings = ratings[['userId', 'movieId', 'rating']]\n",
    "ratings_matrix = ratings.pivot_table(values='rating', index='userId', columns='movieId')\n",
    "ratings_matrix.head()"
   ]
  },
  {
   "cell_type": "code",
   "execution_count": null,
   "id": "underlying-drove",
   "metadata": {},
   "outputs": [],
   "source": [
    "# Turn numbers into titles\n",
    "ratings_movies = ratings.merge(movies, left_on='movieId', right_on='movieId')\n",
    "ratings_matrix = ratings_movies.pivot_table(values='rating', index='userId', columns='title')\n",
    "\n",
    "# Fill Nan to 0\n",
    "ratings_matrix.fillna(0, inplace=True)\n",
    "ratings_matrix.head()"
   ]
  },
  {
   "cell_type": "markdown",
   "id": "intimate-quality",
   "metadata": {},
   "source": [
    "# Cosine similarity matrix"
   ]
  },
  {
   "cell_type": "code",
   "execution_count": null,
   "id": "rural-intensity",
   "metadata": {},
   "outputs": [],
   "source": [
    "from sklearn.metrics.pairwise import cosine_similarity"
   ]
  },
  {
   "cell_type": "code",
   "execution_count": null,
   "id": "traditional-vertical",
   "metadata": {},
   "outputs": [],
   "source": [
    "# Transpose ratings_matrix\n",
    "ratings_matrix_T = ratings_matrix.T\n",
    "\n",
    "# Calculate cosine similarity array\n",
    "item_sim = cosine_similarity(ratings_matrix_T, ratings_matrix_T)\n",
    "\n",
    "# Change numpy array to pandas dataframe\n",
    "item_sim_df = pd.DataFrame(data=item_sim, index=ratings_matrix.columns, columns=ratings_matrix.columns)"
   ]
  },
  {
   "cell_type": "code",
   "execution_count": null,
   "id": "lasting-animal",
   "metadata": {},
   "outputs": [],
   "source": [
    "item_sim_df"
   ]
  },
  {
   "cell_type": "markdown",
   "id": "burning-factory",
   "metadata": {},
   "source": [
    "## Personalized recommend system: based items k-nearest collaborative filtering\n",
    "\n",
    "- $\\hat{R}_{u, i}$: 영화 $i$에 대한 사용자 $u$의 평점 예측값\n",
    "- $S_{i, N}$: 영화 $i$와 가장 유사도가 높은 top-$N$ 개 영화의 유사도 벡터\n",
    "- $R_{u, N}$: 사용자 $u$의 영화 $i$와 가장 유사도가 높은 top-$N$개 영황에 대한 실제 평점 벡터\n",
    "\n",
    "\n",
    "$\\hat{R}_{u, i}$ = $\\sum_{}^{N} S_{i, N} \\cdot R_{u, N}$ \\ $\\sum_{}^{N} |S_{i, N}|$"
   ]
  },
  {
   "cell_type": "code",
   "execution_count": null,
   "id": "danish-parcel",
   "metadata": {},
   "outputs": [],
   "source": [
    "def predict_rating(ratings_arr, item_sim_arr):\n",
    "    \"\"\"Return a predicted movie rating of an user\n",
    "    ratings_arr: numpy array, rows are users and columns are moives, values are ratings,\n",
    "    item_sim_arr: numpy array, rows and columns are movie titles, values are cosine similarities\"\"\"\n",
    "    ratings_pred = ratings_arr.dot(item_sim_arr) / np.array([np.abs(item_sim_arr.sum(axis=0))])\n",
    "    return ratings_pred"
   ]
  },
  {
   "cell_type": "code",
   "execution_count": null,
   "id": "differential-shareware",
   "metadata": {},
   "outputs": [],
   "source": [
    "ratings_pred = predict_rating(ratings_matrix.values, item_sim_df.values)\n",
    "ratings_pred_matrix = pd.DataFrame(ratings_pred, index=ratings_matrix.index, columns=ratings_matrix.columns)\n",
    "ratings_pred_matrix.head(n=3)"
   ]
  },
  {
   "cell_type": "markdown",
   "id": "blond-trout",
   "metadata": {},
   "source": [
    "# Evaluate"
   ]
  },
  {
   "cell_type": "code",
   "execution_count": null,
   "id": "damaged-party",
   "metadata": {},
   "outputs": [],
   "source": [
    "from sklearn.metrics import mean_squared_error"
   ]
  },
  {
   "cell_type": "code",
   "execution_count": null,
   "id": "statutory-approval",
   "metadata": {},
   "outputs": [],
   "source": [
    "def get_mse(pred, actual):\n",
    "    \"\"\"Return a mean square error\n",
    "    pred: numpy array, predicted values,\n",
    "    actual: numpy array, ground truth values\"\"\"\n",
    "    pred = pred[actual.nonzero()].flatten()\n",
    "    actual = actual[actual.nonzero()].flatten()\n",
    "    return mean_squared_error(pred, actual)"
   ]
  },
  {
   "cell_type": "code",
   "execution_count": null,
   "id": "sealed-receiver",
   "metadata": {},
   "outputs": [],
   "source": [
    "f'A mean square error of result: {get_mse(ratings_pred, ratings_matrix.values):0.4f}'"
   ]
  },
  {
   "cell_type": "code",
   "execution_count": null,
   "id": "tender-proportion",
   "metadata": {},
   "outputs": [],
   "source": [
    "from tqdm import tqdm"
   ]
  },
  {
   "cell_type": "code",
   "execution_count": null,
   "id": "driving-uniform",
   "metadata": {},
   "outputs": [],
   "source": [
    "def predict_rating_top_sim(ratings_arr, item_sim_arr, n=20):\n",
    "    \"\"\"Return a predicted movie rating of an user\n",
    "    ratings_arr: numpy array, rows are users and columns are moives, values are ratings,\n",
    "    item_sim_arr: numpy array, rows and columns are movie titles, values are cosine similarities,\n",
    "    n: integer, n higher cosine similarities\"\"\"\n",
    "    pred = np.zeros(ratings_arr.shape)\n",
    "    \n",
    "    for col in tqdm(range(ratings_arr.shape[1])):\n",
    "        # Return indexes with n high cosine similarities in the item_sim_arr\n",
    "        top_n_items = np.argsort(item_sim_arr[:, col])[:-(n+1):-1].tolist()\n",
    "        # Calculate personalized ratings\n",
    "        for row in range(ratings_arr.shape[0]):\n",
    "            pred[row, col] = item_sim_arr[col, top_n_items].dot(ratings_arr[row, top_n_items].T)\n",
    "            pred[row, col] /= abs(item_sim_arr[col, top_n_items]).sum()\n",
    "    return pred"
   ]
  },
  {
   "cell_type": "code",
   "execution_count": null,
   "id": "governing-whale",
   "metadata": {},
   "outputs": [],
   "source": [
    "ratings_pred = predict_rating_top_sim(ratings_matrix.values, item_sim_df.values, n=20)"
   ]
  },
  {
   "cell_type": "code",
   "execution_count": null,
   "id": "israeli-chambers",
   "metadata": {},
   "outputs": [],
   "source": [
    "f'A mean square error of result: {get_mse(ratings_pred, ratings_matrix.values):0.4f}'"
   ]
  },
  {
   "cell_type": "code",
   "execution_count": null,
   "id": "fantastic-register",
   "metadata": {},
   "outputs": [],
   "source": [
    "ratings_pred_matrix = pd.DataFrame(data=ratings_pred, index=ratings_matrix.index, columns=ratings_matrix.columns)"
   ]
  },
  {
   "cell_type": "code",
   "execution_count": null,
   "id": "appropriate-purse",
   "metadata": {},
   "outputs": [],
   "source": [
    "user_rating_id = ratings_matrix.loc[9, :]\n",
    "user_rating_id[user_rating_id > 0].sort_values(ascending=False)[:10].tolist()"
   ]
  },
  {
   "cell_type": "code",
   "execution_count": null,
   "id": "approximate-pollution",
   "metadata": {},
   "outputs": [],
   "source": [
    "def get_unseen_movies(ratings_matrix, user_id):\n",
    "    \"\"\"Return a list of not seen movies indexes\n",
    "    ratings_matrix: numpy array, rows are users and columns are moives, values are ratings,\n",
    "    user_id: integer, an user id number\"\"\"\n",
    "    \n",
    "    # Return all movies of an user\n",
    "    user_rating = ratings_matrix.loc[user_id, :]\n",
    "    \n",
    "    # Return a list of not seen movies indexes\n",
    "    unseen_list = user_rating[user_rating < 1].index.tolist()\n",
    "    \n",
    "    return unseen_list"
   ]
  },
  {
   "cell_type": "code",
   "execution_count": null,
   "id": "finished-statistics",
   "metadata": {},
   "outputs": [],
   "source": [
    "def recomm_movie_by_user_id(pred_df, user_id, unseen_list, top_n=10):\n",
    "    \"\"\"Recommend top n not seen movies by predicted higher rating\"\"\"\n",
    "    recomm_movies = pred_df.loc[user_id, unseen_list].sort_values(ascending=False)[:top_n]\n",
    "    return recomm_movies"
   ]
  },
  {
   "cell_type": "code",
   "execution_count": null,
   "id": "unexpected-consolidation",
   "metadata": {},
   "outputs": [],
   "source": [
    "# not seend movies list of the user id 9\n",
    "unseen_list = get_unseen_movies(ratings_matrix, 9)\n",
    "\n",
    "# recommend movies\n",
    "recomm_movies = recomm_movie_by_user_id(ratings_pred_matrix, 9, unseen_list, top_n=10)\n",
    "recomm_movies = pd.DataFrame(data=recomm_movies.values, index=recomm_movies.index, columns=['pred_score'])"
   ]
  },
  {
   "cell_type": "code",
   "execution_count": null,
   "id": "seeing-vintage",
   "metadata": {},
   "outputs": [],
   "source": [
    "recomm_movies"
   ]
  }
 ],
 "metadata": {
  "kernelspec": {
   "display_name": "Python 3",
   "language": "python",
   "name": "python3"
  },
  "language_info": {
   "codemirror_mode": {
    "name": "ipython",
    "version": 3
   },
   "file_extension": ".py",
   "mimetype": "text/x-python",
   "name": "python",
   "nbconvert_exporter": "python",
   "pygments_lexer": "ipython3",
   "version": "3.8.2"
  }
 },
 "nbformat": 4,
 "nbformat_minor": 5
}
