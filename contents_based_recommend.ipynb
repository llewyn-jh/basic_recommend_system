{
 "cells": [
  {
   "cell_type": "code",
   "execution_count": null,
   "id": "helpful-texture",
   "metadata": {},
   "outputs": [],
   "source": [
    "%config Completer.use_jedi = False"
   ]
  },
  {
   "cell_type": "code",
   "execution_count": null,
   "id": "listed-strength",
   "metadata": {},
   "outputs": [],
   "source": [
    "import pandas as pd\n",
    "import numpy as np\n",
    "import warnings"
   ]
  },
  {
   "cell_type": "code",
   "execution_count": null,
   "id": "fifth-stuff",
   "metadata": {},
   "outputs": [],
   "source": [
    "warnings.filterwarnings('ignore')"
   ]
  },
  {
   "cell_type": "markdown",
   "id": "several-america",
   "metadata": {},
   "source": [
    "# Read data"
   ]
  },
  {
   "cell_type": "code",
   "execution_count": null,
   "id": "fancy-costs",
   "metadata": {},
   "outputs": [],
   "source": [
    "movies = pd.read_csv('./tmdb_5000_movies.csv')\n",
    "movies"
   ]
  },
  {
   "cell_type": "code",
   "execution_count": null,
   "id": "moderate-values",
   "metadata": {},
   "outputs": [],
   "source": [
    "movies_df = movies[['id', 'title', 'genres', 'vote_average', 'vote_count', 'popularity', 'keywords', 'overview']]"
   ]
  },
  {
   "cell_type": "markdown",
   "id": "automatic-shannon",
   "metadata": {},
   "source": [
    "# Set pandas display option"
   ]
  },
  {
   "cell_type": "code",
   "execution_count": null,
   "id": "challenging-progressive",
   "metadata": {},
   "outputs": [],
   "source": [
    "pd.set_option('max_colwidth', 100)"
   ]
  },
  {
   "cell_type": "code",
   "execution_count": null,
   "id": "stuffed-peninsula",
   "metadata": {},
   "outputs": [],
   "source": [
    "movies_df[['genres', 'keywords']]"
   ]
  },
  {
   "cell_type": "code",
   "execution_count": null,
   "id": "massive-attack",
   "metadata": {},
   "outputs": [],
   "source": [
    "movies_df['genres'] = movies_df['genres'].apply(eval)\n",
    "movies_df['keywords'] = movies_df['keywords'].apply(eval)\n",
    "movies_df['genres'] = movies_df['genres'].apply(lambda x : [y['name'] for y in x])\n",
    "movies_df['keywords'] = movies_df['keywords'].apply(lambda x : [y['name'] for y in x])"
   ]
  },
  {
   "cell_type": "code",
   "execution_count": null,
   "id": "velvet-cleaner",
   "metadata": {},
   "outputs": [],
   "source": [
    "movies_df[['genres', 'keywords']]"
   ]
  },
  {
   "cell_type": "markdown",
   "id": "stopped-chocolate",
   "metadata": {},
   "source": [
    "# Cosine similarity"
   ]
  },
  {
   "cell_type": "code",
   "execution_count": null,
   "id": "parallel-craps",
   "metadata": {},
   "outputs": [],
   "source": [
    "from sklearn.feature_extraction.text import CountVectorizer"
   ]
  },
  {
   "cell_type": "code",
   "execution_count": null,
   "id": "mysterious-mailman",
   "metadata": {},
   "outputs": [],
   "source": [
    "movies_df['genres_literal'] = movies_df['genres'].apply(lambda x : (' ').join(x))\n",
    "count_vect = CountVectorizer(min_df=0, ngram_range=(1, 2))\n",
    "genre_mat = count_vect.fit_transform(movies_df['genres_literal'])\n",
    "genre_mat"
   ]
  },
  {
   "cell_type": "code",
   "execution_count": null,
   "id": "expired-sarah",
   "metadata": {},
   "outputs": [],
   "source": [
    "from sklearn.metrics.pairwise import cosine_similarity"
   ]
  },
  {
   "cell_type": "code",
   "execution_count": null,
   "id": "editorial-river",
   "metadata": {},
   "outputs": [],
   "source": [
    "genre_sim = cosine_similarity(genre_mat, genre_mat)\n",
    "genre_sim.shape"
   ]
  },
  {
   "cell_type": "code",
   "execution_count": null,
   "id": "increased-bunny",
   "metadata": {},
   "outputs": [],
   "source": [
    "genre_sim[:1]"
   ]
  },
  {
   "cell_type": "code",
   "execution_count": null,
   "id": "timely-gallery",
   "metadata": {},
   "outputs": [],
   "source": [
    "genre_sim_sorted_ind = genre_sim.argsort()[:, ::-1]\n",
    "genre_sim_sorted_ind[:1]"
   ]
  },
  {
   "cell_type": "markdown",
   "id": "german-politics",
   "metadata": {},
   "source": [
    "# Recommend system"
   ]
  },
  {
   "cell_type": "code",
   "execution_count": null,
   "id": "vertical-resident",
   "metadata": {},
   "outputs": [],
   "source": [
    "def find_sim_movie(df, sorted_ind, title_name, top_n=10):\n",
    "    # Extract a dataframe with title_name\n",
    "    title_movie = df[df['title'] == title_name]\n",
    "    \n",
    "    # Extract indexes of title_movie as a ndarray\n",
    "    title_index = title_movie.index.values\n",
    "    \n",
    "    # Extract top_n indexes of sorted_ind\n",
    "    similar_indexes = sorted_ind[title_index, :top_n]\n",
    "    print(similar_indexes)\n",
    "    \n",
    "    # Reshape the similar_indexes to 1-D array\n",
    "    similar_indexes = similar_indexes.reshape(-1)\n",
    "    \n",
    "    return df.iloc[similar_indexes]"
   ]
  },
  {
   "cell_type": "code",
   "execution_count": null,
   "id": "classical-pavilion",
   "metadata": {},
   "outputs": [],
   "source": [
    "similar_movies = find_sim_movie(movies_df, genre_sim_sorted_ind, 'The Godfather', 10)\n",
    "similar_movies[['title', 'vote_average']]"
   ]
  },
  {
   "cell_type": "code",
   "execution_count": null,
   "id": "minimal-kruger",
   "metadata": {},
   "outputs": [],
   "source": [
    "movies_df[['title', 'vote_average', 'vote_count']].sort_values(by='vote_average', ascending=False)[:10]"
   ]
  },
  {
   "cell_type": "markdown",
   "id": "cardiovascular-privilege",
   "metadata": {},
   "source": [
    "# Weighted rating"
   ]
  },
  {
   "cell_type": "markdown",
   "id": "juvenile-beads",
   "metadata": {},
   "source": [
    "- v: 개별 영화에 평점을 투표한 횟수\n",
    "- m: 평점을 부여하기 위한 최소 투표 횟수\n",
    "- R: 개별 영화에 대한 평균 평점\n",
    "- C: 전체 영화에 대한 평균 평점\n",
    "\n",
    "weighted_rating = (v / (v + m)) * R + (m / (v + m)) * C"
   ]
  },
  {
   "cell_type": "code",
   "execution_count": null,
   "id": "earlier-poultry",
   "metadata": {},
   "outputs": [],
   "source": [
    "C = movies_df['vote_average'].mean()\n",
    "m = movies_df['vote_count'].quantile(0.6)\n",
    "print('C: ', round(C, 3), 'm: ', round(m, 3))"
   ]
  },
  {
   "cell_type": "code",
   "execution_count": null,
   "id": "selective-button",
   "metadata": {},
   "outputs": [],
   "source": [
    "percentile = 0.6\n",
    "\n",
    "m = movies_df['vote_count'].quantile(percentile)\n",
    "C = movies_df['vote_average'].mean()"
   ]
  },
  {
   "cell_type": "code",
   "execution_count": null,
   "id": "quarterly-kruger",
   "metadata": {},
   "outputs": [],
   "source": [
    "def weighted_vote_average(record):\n",
    "    v = record['vote_count']\n",
    "    R = record['vote_average']\n",
    "    \n",
    "    return ((v / (v + m)) * R) + ((m / (v + m)) * C)"
   ]
  },
  {
   "cell_type": "code",
   "execution_count": null,
   "id": "falling-brazilian",
   "metadata": {},
   "outputs": [],
   "source": [
    "movies_df['weighted_vote'] = movies.apply(weighted_vote_average, axis=1)\n",
    "movies_df[['title', 'vote_average', 'weighted_vote', 'vote_count']].sort_values(by='weighted_vote',\n",
    "                                                                                ascending=False)[:10]"
   ]
  },
  {
   "cell_type": "code",
   "execution_count": null,
   "id": "peaceful-bones",
   "metadata": {},
   "outputs": [],
   "source": [
    "def find_sim_movie(df, sorted_ind, title_name, top_n=10):\n",
    "    title_movie = df[df.title == title_name]\n",
    "    title_index = title_movie.index.values\n",
    "    \n",
    "    similar_indexes = sorted_ind[title_index, :top_n*2]\n",
    "    similar_indexes = similar_indexes.reshape(-1)\n",
    "    \n",
    "    similar_indexes = similar_indexes[similar_indexes != title_index]\n",
    "    \n",
    "    return df.iloc[similar_indexes].sort_values('weighted_vote', ascending=False)[:top_n]"
   ]
  },
  {
   "cell_type": "code",
   "execution_count": null,
   "id": "collect-bonus",
   "metadata": {},
   "outputs": [],
   "source": [
    "similar_movies = find_sim_movie(movies_df, genre_sim_sorted_ind, 'The Godfather', 10)\n",
    "similar_movies[['title', 'vote_average', 'weighted_vote']]"
   ]
  }
 ],
 "metadata": {
  "kernelspec": {
   "display_name": "Python 3",
   "language": "python",
   "name": "python3"
  },
  "language_info": {
   "codemirror_mode": {
    "name": "ipython",
    "version": 3
   },
   "file_extension": ".py",
   "mimetype": "text/x-python",
   "name": "python",
   "nbconvert_exporter": "python",
   "pygments_lexer": "ipython3",
   "version": "3.8.2"
  }
 },
 "nbformat": 4,
 "nbformat_minor": 5
}
