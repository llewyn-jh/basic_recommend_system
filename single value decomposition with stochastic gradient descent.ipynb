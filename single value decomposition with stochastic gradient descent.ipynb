{
 "cells": [
  {
   "cell_type": "code",
   "execution_count": null,
   "id": "legal-timber",
   "metadata": {},
   "outputs": [],
   "source": [
    "%config Completer.use_jedi = False"
   ]
  },
  {
   "cell_type": "markdown",
   "id": "acute-recipient",
   "metadata": {},
   "source": [
    "# Generate test dataset"
   ]
  },
  {
   "cell_type": "code",
   "execution_count": null,
   "id": "affected-cassette",
   "metadata": {},
   "outputs": [],
   "source": [
    "import numpy as np"
   ]
  },
  {
   "cell_type": "code",
   "execution_count": null,
   "id": "agreed-driver",
   "metadata": {},
   "outputs": [],
   "source": [
    "# R: original matrix, P, Q: factorization matrix, K: latent element demension\n",
    "R = np.array([[4, np.NaN, np.NaN, 2, np.NaN,],\n",
    "              [np.NaN, 5, np.NaN, 3, 1],\n",
    "              [np.NaN, np.NaN, 3, 4, 4],\n",
    "              [5, 2, 1, 2, np.NaN]])\n",
    "\n",
    "num_users, num_items = R.shape\n",
    "K = 3\n",
    "\n",
    "# Set size and random values of P, Q\n",
    "np.random.seed(1)\n",
    "P = np.random.normal(scale=1./K, size=(num_users, K))\n",
    "Q = np.random.normal(scale=1./K, size=(num_items, K))"
   ]
  },
  {
   "cell_type": "markdown",
   "id": "historic-prevention",
   "metadata": {},
   "source": [
    "# Build a single value decomposition algorithm"
   ]
  },
  {
   "cell_type": "code",
   "execution_count": null,
   "id": "regulation-shannon",
   "metadata": {},
   "outputs": [],
   "source": [
    "from sklearn.metrics import mean_squared_error"
   ]
  },
  {
   "cell_type": "code",
   "execution_count": null,
   "id": "acquired-pattern",
   "metadata": {},
   "outputs": [],
   "source": [
    "def get_rmse(R, P, Q, non_zeros):\n",
    "    \"\"\"Calculate and return a positive root of MSE with R and predicted R\n",
    "    R: original data,\n",
    "    P, Q: factorization matrix,\n",
    "    non_zeros: non zero element and (x, y) coordinate of R\"\"\"\n",
    "\n",
    "    # Generate a predicted R with P, Q\n",
    "    full_pred_matrix = np.dot(P, Q.T)\n",
    "    \n",
    "    # Calculate RMSE with R and predicted R\n",
    "    x_non_zero_ind = [non_zero[0] for non_zero in non_zeros]\n",
    "    y_non_zero_ind = [non_zero[1] for non_zero in non_zeros]\n",
    "    R_non_zeros = R[x_non_zero_ind, y_non_zero_ind]\n",
    "    full_pred_matrix_non_zeros = full_pred_matrix[x_non_zero_ind, y_non_zero_ind]\n",
    "    mse = mean_squared_error(R_non_zeros, full_pred_matrix_non_zeros)\n",
    "    rmse = np.sqrt(mse)\n",
    "    \n",
    "    return rmse"
   ]
  },
  {
   "cell_type": "code",
   "execution_count": null,
   "id": "aerial-diploma",
   "metadata": {},
   "outputs": [],
   "source": [
    "# Save non zeros elements and the index in the non_zeros list\n",
    "non_zeros = [(i, j, R[i, j]) for i in range(num_users) for j in range(num_items) if R[i, j] > 0]\n",
    "\n",
    "steps = 1000\n",
    "learning_rate = 0.01\n",
    "r_lambda = 0.01\n",
    "\n",
    "# Update P and Q with SGD method\n",
    "for step in range(steps):\n",
    "    for i, j, r in non_zeros:\n",
    "        # Calculate error\n",
    "        eij = r - np.dot(P[i, :], Q[j, :])\n",
    "        # Update P, Q with SGD and L2 regularization\n",
    "        P[i, :] = P[i, :] + (learning_rate * ((eij * Q[j, :]) - (r_lambda * P[i, :])))\n",
    "        Q[j, :] = Q[j, :] + (learning_rate * ((eij * P[i, :]) - (r_lambda * Q[j, :])))\n",
    "    rmse = get_rmse(R, P, Q, non_zeros)\n",
    "    if (step % 50) == 0:\n",
    "        print(\"### iteration step: \", step, \"rmse: \", rmse)"
   ]
  },
  {
   "cell_type": "markdown",
   "id": "egyptian-spine",
   "metadata": {},
   "source": [
    "# Predict"
   ]
  },
  {
   "cell_type": "code",
   "execution_count": null,
   "id": "convertible-preservation",
   "metadata": {},
   "outputs": [],
   "source": [
    "pred_matrix = np.dot(P, Q.T)\n",
    "print(\"A predicted matrix: \\n\", np.round(pred_matrix, 3))"
   ]
  }
 ],
 "metadata": {
  "kernelspec": {
   "display_name": "Python 3",
   "language": "python",
   "name": "python3"
  },
  "language_info": {
   "codemirror_mode": {
    "name": "ipython",
    "version": 3
   },
   "file_extension": ".py",
   "mimetype": "text/x-python",
   "name": "python",
   "nbconvert_exporter": "python",
   "pygments_lexer": "ipython3",
   "version": "3.8.2"
  }
 },
 "nbformat": 4,
 "nbformat_minor": 5
}
