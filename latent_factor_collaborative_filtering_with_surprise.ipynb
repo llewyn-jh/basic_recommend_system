{
 "cells": [
  {
   "cell_type": "code",
   "execution_count": null,
   "id": "legislative-citizenship",
   "metadata": {},
   "outputs": [],
   "source": [
    "%config Completer.use_jedi = False"
   ]
  },
  {
   "cell_type": "code",
   "execution_count": null,
   "id": "vanilla-mention",
   "metadata": {},
   "outputs": [],
   "source": [
    "from surprise import SVD\n",
    "from surprise import Dataset\n",
    "from surprise import accuracy\n",
    "from surprise.model_selection import train_test_split"
   ]
  },
  {
   "cell_type": "markdown",
   "id": "fifty-bridal",
   "metadata": {},
   "source": [
    "# Load dataset with built-in"
   ]
  },
  {
   "cell_type": "code",
   "execution_count": null,
   "id": "other-technology",
   "metadata": {},
   "outputs": [],
   "source": [
    "data = Dataset.load_builtin(name='ml-100k')\n",
    "train_set, test_set = train_test_split(data, test_size=0.25, random_state=0)"
   ]
  },
  {
   "cell_type": "markdown",
   "id": "federal-beginning",
   "metadata": {},
   "source": [
    "# Train an algorithm"
   ]
  },
  {
   "cell_type": "code",
   "execution_count": null,
   "id": "detected-relation",
   "metadata": {},
   "outputs": [],
   "source": [
    "algo = SVD()\n",
    "algo.fit(train_set)"
   ]
  },
  {
   "cell_type": "markdown",
   "id": "expired-brave",
   "metadata": {},
   "source": [
    "# Inspect result"
   ]
  },
  {
   "cell_type": "code",
   "execution_count": null,
   "id": "mounted-laugh",
   "metadata": {},
   "outputs": [],
   "source": [
    "predictions = algo.test(test_set)\n",
    "print('prediction type: {}, size: {}'.format(type(predictions), len(predictions)))"
   ]
  },
  {
   "cell_type": "code",
   "execution_count": null,
   "id": "trained-cigarette",
   "metadata": {},
   "outputs": [],
   "source": [
    "print('Initial top-5 prediction')\n",
    "predictions[:5]"
   ]
  },
  {
   "cell_type": "code",
   "execution_count": null,
   "id": "aging-michigan",
   "metadata": {},
   "outputs": [],
   "source": [
    "[(pred.uid, pred.iid, pred.est) for pred in predictions[:3]]"
   ]
  },
  {
   "cell_type": "code",
   "execution_count": null,
   "id": "burning-proportion",
   "metadata": {},
   "outputs": [],
   "source": [
    "uid = str(196)\n",
    "iid = str(302)\n",
    "pred = algo.predict(uid, iid, verbose=True)"
   ]
  },
  {
   "cell_type": "markdown",
   "id": "formed-casino",
   "metadata": {},
   "source": [
    "# Accuracy"
   ]
  },
  {
   "cell_type": "code",
   "execution_count": null,
   "id": "outstanding-capture",
   "metadata": {},
   "outputs": [],
   "source": [
    "accuracy.rmse(predictions)"
   ]
  },
  {
   "cell_type": "code",
   "execution_count": null,
   "id": "sunrise-diary",
   "metadata": {},
   "outputs": [],
   "source": [
    "import pandas as pd"
   ]
  },
  {
   "cell_type": "code",
   "execution_count": null,
   "id": "concrete-zealand",
   "metadata": {},
   "outputs": [],
   "source": [
    "ratings = pd.read_csv('./ratings.csv')\n",
    "ratings.to_csv('./ratings_noh.csv', index=False, header=False)\n",
    "ratings.describe()"
   ]
  },
  {
   "cell_type": "markdown",
   "id": "suburban-drive",
   "metadata": {},
   "source": [
    "# Load datset with file"
   ]
  },
  {
   "cell_type": "code",
   "execution_count": null,
   "id": "educated-verification",
   "metadata": {},
   "outputs": [],
   "source": [
    "from surprise import Reader"
   ]
  },
  {
   "cell_type": "code",
   "execution_count": null,
   "id": "scenic-active",
   "metadata": {},
   "outputs": [],
   "source": [
    "reader = Reader(line_format='user item rating timestamp', sep=',', rating_scale=(0.5, 5))\n",
    "data = Dataset.load_from_file(file_path='./ratings_noh.csv', reader=reader)"
   ]
  },
  {
   "cell_type": "code",
   "execution_count": null,
   "id": "driving-attack",
   "metadata": {},
   "outputs": [],
   "source": [
    "train_set, test_set = train_test_split(data, test_size=0.25, random_state=0)"
   ]
  },
  {
   "cell_type": "code",
   "execution_count": null,
   "id": "organized-attitude",
   "metadata": {},
   "outputs": [],
   "source": [
    "algo = SVD(n_factors=50, random_state=0, verbose=True)\n",
    "algo.fit(train_set)\n",
    "predictions = algo.test(test_set)\n",
    "accuracy.rmse(predictions)"
   ]
  },
  {
   "cell_type": "markdown",
   "id": "amateur-creek",
   "metadata": {},
   "source": [
    "# Load dataset with pandas"
   ]
  },
  {
   "cell_type": "code",
   "execution_count": null,
   "id": "optimum-welding",
   "metadata": {},
   "outputs": [],
   "source": [
    "ratings = pd.read_csv('./ratings.csv')\n",
    "reader = Reader(rating_scale=(0.5, 5))"
   ]
  },
  {
   "cell_type": "code",
   "execution_count": null,
   "id": "south-calculator",
   "metadata": {},
   "outputs": [],
   "source": [
    "data = Dataset.load_from_df(df=ratings[['userId', 'movieId', 'rating']], reader=reader)\n",
    "train_set, test_set = train_test_split(data=data, test_size=0.25, random_state=0)"
   ]
  },
  {
   "cell_type": "code",
   "execution_count": null,
   "id": "worst-catalog",
   "metadata": {},
   "outputs": [],
   "source": [
    "algo = SVD(n_factors=50, random_state=0, verbose=True)\n",
    "algo.fit(train_set)"
   ]
  },
  {
   "cell_type": "code",
   "execution_count": null,
   "id": "unexpected-volume",
   "metadata": {},
   "outputs": [],
   "source": [
    "predictions = algo.test(test_set)\n",
    "accuracy.rmse(predictions)"
   ]
  }
 ],
 "metadata": {
  "kernelspec": {
   "display_name": "Python 3",
   "language": "python",
   "name": "python3"
  },
  "language_info": {
   "codemirror_mode": {
    "name": "ipython",
    "version": 3
   },
   "file_extension": ".py",
   "mimetype": "text/x-python",
   "name": "python",
   "nbconvert_exporter": "python",
   "pygments_lexer": "ipython3",
   "version": "3.8.2"
  }
 },
 "nbformat": 4,
 "nbformat_minor": 5
}
